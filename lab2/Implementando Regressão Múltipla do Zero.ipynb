{
 "cells": [
  {
   "cell_type": "code",
   "execution_count": 6,
   "metadata": {},
   "outputs": [],
   "source": [
    "import numpy as np\n",
    "import matplotlib.pyplot as plt\n",
    "import time"
   ]
  },
  {
   "cell_type": "markdown",
   "metadata": {},
   "source": [
    "Função para calcular o MSE (Mean Squared Error):\n",
    "\n",
    "$MSE(\\hat{w})=\\frac{1}{N}(y-\\hat{\\mathbf{w}}^T\\mathbf{x})^T(y-\\hat{\\mathbf{w}}^T\\mathbf{x})$"
   ]
  },
  {
   "cell_type": "code",
   "execution_count": 22,
   "metadata": {},
   "outputs": [],
   "source": [
    "def compute_mse_vectorized(w,X,Y):\n",
    "    res = Y - np.dot(X,w)\n",
    "    totalError = np.dot(res.T,res)\n",
    "    return totalError / float(len(Y))"
   ]
  },
  {
   "cell_type": "code",
   "execution_count": 23,
   "metadata": {},
   "outputs": [],
   "source": [
    "def gradient_descent_runner_vectorized(starting_w, X,Y, learning_rate, epsilon):\n",
    "    w = starting_w\n",
    "    grad = np.full([1, X.size], np.inf) #dimensão matriz_gradiente\n",
    "    i = 0\n",
    "    while (np.linalg.norm(grad)>=epsilon):\n",
    "        w,w0_gradient,w1_gradient = step_gradient_vectorized(w, X, Y, learning_rate)\n",
    "        grad = np.array([w0_gradient,w1_gradient])##refatorar\n",
    "        #print(np.linalg.norm(grad)) norma_value\n",
    "        if i % 1000 == 0:\n",
    "            print(\"MSE na iteração {0} é de {1}\".format(i,compute_mse_vectorized(w, X, Y)))\n",
    "        i+= 1\n",
    "    return w"
   ]
  },
  {
   "cell_type": "code",
   "execution_count": null,
   "metadata": {},
   "outputs": [],
   "source": [
    "def step_gradient_vectorized(w_current,X,Y,learningRate):\n",
    "    res = Y - np.dot(X,w_current)\n",
    "    b_gradient = np.sum(res)\n",
    "    X = X[:,1][:,np.newaxis]\n",
    "    m_gradient = np.sum(np.multiply(res,X))\n",
    "    new_w = np.array([(w_current[0] + (2 * learningRate * b_gradient)),\n",
    "                      (w_current[1] + (2 * learningRate * m_gradient))])\n",
    "    return [new_w,b_gradient,m_gradient]"
   ]
  },
  {
   "cell_type": "code",
   "execution_count": 49,
   "metadata": {},
   "outputs": [
    {
     "data": {
      "text/plain": [
       "array([[ 1.  ,  8.7 , 10.  ,  9.  ,  9.1 ,  8.4 ],\n",
       "       [ 1.  ,  7.  ,  7.  ,  7.7 ,  7.  ,  6.2 ],\n",
       "       [ 1.  ,  8.6 ,  9.8 ,  7.9 ,  9.6 ,  8.7 ],\n",
       "       [ 1.  ,  7.8 ,  8.3 ,  6.8 ,  8.2 ,  8.  ],\n",
       "       [ 1.  ,  5.2 ,  9.3 ,  5.  ,  8.5 ,  5.  ],\n",
       "       [ 1.  ,  6.1 ,  9.2 ,  9.1 ,  9.3 ,  5.6 ],\n",
       "       [ 1.  ,  6.3 ,  9.6 ,  8.3 ,  8.6 ,  6.7 ],\n",
       "       [ 1.  ,  7.5 ,  8.9 ,  7.5 ,  7.9 ,  5.  ],\n",
       "       [ 1.  ,  6.6 ,  9.  ,  5.  ,  7.9 ,  5.  ],\n",
       "       [ 1.  ,  7.5 ,  6.5 ,  7.3 ,  9.2 ,  8.2 ],\n",
       "       [ 1.  ,  6.6 ,  7.9 ,  8.4 ,  7.5 ,  8.3 ],\n",
       "       [ 1.  ,  8.4 , 10.  ,  9.3 ,  9.6 ,  7.  ],\n",
       "       [ 1.  ,  5.6 ,  7.3 ,  6.7 ,  8.1 ,  5.  ],\n",
       "       [ 1.  ,  9.7 ,  9.1 ,  7.2 ,  8.3 ,  5.  ],\n",
       "       [ 1.  ,  7.4 ,  7.5 ,  6.5 ,  7.3 ,  5.4 ],\n",
       "       [ 1.  ,  7.2 ,  9.5 ,  8.9 ,  8.1 ,  5.8 ],\n",
       "       [ 1.  ,  8.8 ,  8.4 ,  9.8 ,  9.3 ,  7.  ],\n",
       "       [ 1.  ,  7.  ,  9.6 ,  8.6 ,  9.3 ,  7.5 ],\n",
       "       [ 1.  ,  5.8 , 10.  ,  8.2 ,  7.4 ,  7.2 ],\n",
       "       [ 1.  ,  7.  ,  7.2 ,  5.3 ,  7.6 ,  5.  ],\n",
       "       [ 1.  ,  7.  ,  7.5 ,  5.6 ,  8.  ,  5.6 ],\n",
       "       [ 1.  ,  9.2 ,  8.3 ,  8.6 ,  8.4 ,  7.6 ],\n",
       "       [ 1.  ,  7.2 ,  8.5 ,  7.7 ,  8.4 ,  5.  ],\n",
       "       [ 1.  ,  5.6 ,  8.  ,  5.  ,  8.5 ,  8.2 ],\n",
       "       [ 1.  ,  7.3 ,  8.3 ,  7.  ,  7.7 ,  7.2 ],\n",
       "       [ 1.  ,  7.  ,  8.7 ,  6.5 ,  8.1 ,  5.  ],\n",
       "       [ 1.  ,  8.8 ,  7.3 ,  6.2 ,  8.3 ,  5.  ],\n",
       "       [ 1.  ,  8.3 ,  9.6 ,  7.  ,  9.1 ,  5.1 ],\n",
       "       [ 1.  ,  7.  ,  9.6 ,  8.4 ,  8.2 ,  9.  ],\n",
       "       [ 1.  ,  6.1 ,  9.8 ,  8.  ,  8.8 ,  5.  ],\n",
       "       [ 1.  ,  7.2 ,  8.8 ,  8.4 ,  7.8 ,  5.4 ],\n",
       "       [ 1.  ,  8.1 ,  9.  ,  7.8 ,  7.9 ,  5.  ],\n",
       "       [ 1.  ,  7.3 ,  9.  ,  9.2 ,  7.4 ,  7.  ],\n",
       "       [ 1.  ,  6.3 ,  7.8 ,  7.1 ,  6.3 ,  7.7 ],\n",
       "       [ 1.  ,  5.  ,  7.3 ,  5.6 ,  5.9 ,  5.  ],\n",
       "       [ 1.  ,  8.3 ,  8.6 ,  5.5 ,  7.1 ,  5.1 ],\n",
       "       [ 1.  ,  8.3 ,  9.4 ,  9.6 ,  7.4 ,  7.9 ],\n",
       "       [ 1.  ,  7.5 ,  7.  ,  8.  ,  8.  ,  5.2 ],\n",
       "       [ 1.  ,  7.  ,  9.  ,  5.9 ,  6.  ,  7.  ],\n",
       "       [ 1.  ,  7.5 ,  9.4 ,  8.1 ,  9.2 ,  6.5 ],\n",
       "       [ 1.  ,  5.3 ,  9.5 ,  9.1 ,  8.  ,  5.  ],\n",
       "       [ 1.  ,  9.5 ,  8.5 ,  5.  ,  7.5 ,  5.4 ],\n",
       "       [ 1.  ,  7.2 ,  7.75,  5.7 ,  7.  ,  5.2 ],\n",
       "       [ 1.  ,  8.3 ,  9.3 ,  5.  ,  7.2 ,  5.  ],\n",
       "       [ 1.  ,  7.3 ,  9.6 ,  7.7 ,  9.  ,  5.7 ],\n",
       "       [ 1.  ,  5.1 ,  9.6 ,  7.8 ,  8.4 ,  5.6 ],\n",
       "       [ 1.  ,  7.  ,  9.1 ,  8.5 ,  8.8 ,  5.  ],\n",
       "       [ 1.  ,  5.4 ,  9.  ,  8.5 ,  9.3 ,  5.9 ],\n",
       "       [ 1.  ,  7.5 ,  9.5 ,  8.6 ,  8.5 ,  8.  ],\n",
       "       [ 1.  ,  5.9 ,  8.  ,  6.2 ,  8.4 ,  5.7 ],\n",
       "       [ 1.  ,  8.8 ,  8.3 ,  6.6 ,  7.  ,  5.1 ],\n",
       "       [ 1.  ,  7.2 ,  7.6 ,  7.9 ,  7.7 ,  6.1 ],\n",
       "       [ 1.  ,  7.  ,  8.5 ,  8.1 ,  7.3 ,  5.  ],\n",
       "       [ 1.  ,  7.2 ,  9.1 ,  8.2 ,  8.9 ,  5.2 ],\n",
       "       [ 1.  ,  5.  ,  7.  ,  8.  ,  7.2 ,  5.  ],\n",
       "       [ 1.  ,  7.8 ,  9.2 ,  7.6 ,  9.8 ,  6.3 ],\n",
       "       [ 1.  ,  8.6 ,  9.6 ,  8.6 ,  9.5 ,  7.5 ],\n",
       "       [ 1.  ,  8.2 ,  9.6 ,  8.8 ,  8.4 ,  7.  ],\n",
       "       [ 1.  ,  8.7 ,  8.  ,  8.3 ,  8.2 ,  7.5 ],\n",
       "       [ 1.  ,  5.9 ,  7.  ,  6.1 ,  7.8 ,  5.1 ],\n",
       "       [ 1.  ,  7.2 ,  7.7 ,  8.3 ,  7.9 ,  5.  ],\n",
       "       [ 1.  ,  8.7 ,  8.7 ,  8.1 ,  8.9 ,  5.2 ],\n",
       "       [ 1.  ,  7.2 ,  9.2 ,  7.  ,  8.8 ,  5.7 ],\n",
       "       [ 1.  ,  6.8 ,  8.2 ,  7.1 ,  8.9 ,  5.3 ],\n",
       "       [ 1.  ,  8.1 ,  9.3 ,  8.  ,  7.5 ,  5.5 ],\n",
       "       [ 1.  ,  7.5 ,  8.5 ,  7.3 ,  8.6 ,  7.  ],\n",
       "       [ 1.  ,  7.1 ,  9.1 ,  9.5 ,  7.9 ,  7.  ],\n",
       "       [ 1.  ,  7.3 ,  7.  ,  8.3 ,  7.  ,  7.  ],\n",
       "       [ 1.  ,  7.  ,  8.  ,  7.  ,  8.6 ,  5.3 ],\n",
       "       [ 1.  ,  5.8 ,  9.3 ,  7.8 ,  8.2 ,  6.4 ],\n",
       "       [ 1.  ,  5.1 ,  6.2 ,  5.  ,  8.  ,  6.  ],\n",
       "       [ 1.  ,  8.2 ,  6.2 ,  5.4 ,  6.7 ,  5.1 ],\n",
       "       [ 1.  ,  9.8 ,  7.6 , 10.  , 10.  ,  8.5 ],\n",
       "       [ 1.  ,  6.2 ,  7.5 ,  8.1 ,  7.2 ,  8.6 ],\n",
       "       [ 1.  ,  8.7 ,  8.2 ,  8.1 ,  9.9 ,  8.3 ],\n",
       "       [ 1.  ,  6.2 , 10.  ,  5.  ,  7.8 ,  8.  ],\n",
       "       [ 1.  ,  7.8 ,  7.3 ,  9.1 ,  9.8 ,  8.  ],\n",
       "       [ 1.  ,  5.2 ,  7.7 ,  5.4 ,  7.5 ,  7.5 ],\n",
       "       [ 1.  ,  6.7 ,  9.3 ,  7.4 ,  8.3 ,  5.1 ],\n",
       "       [ 1.  ,  5.3 ,  7.6 ,  7.4 ,  9.  ,  5.8 ],\n",
       "       [ 1.  ,  7.2 ,  8.3 ,  7.8 ,  8.1 ,  9.3 ],\n",
       "       [ 1.  ,  9.5 ,  8.  ,  6.  ,  7.1 ,  7.  ],\n",
       "       [ 1.  ,  5.6 ,  7.  ,  6.6 ,  8.6 ,  5.2 ],\n",
       "       [ 1.  ,  7.1 , 10.  ,  5.1 ,  7.  ,  7.3 ],\n",
       "       [ 1.  ,  8.  ,  7.8 ,  5.  ,  8.2 ,  8.2 ],\n",
       "       [ 1.  ,  5.  ,  7.2 ,  7.8 ,  7.4 ,  5.3 ],\n",
       "       [ 1.  ,  9.5 ,  8.  ,  8.9 ,  9.8 ,  8.1 ],\n",
       "       [ 1.  ,  6.1 ,  8.6 ,  7.4 ,  8.3 ,  5.  ]])"
      ]
     },
     "execution_count": 49,
     "metadata": {},
     "output_type": "execute_result"
    }
   ],
   "source": [
    "points = np.genfromtxt(\"../dados/sample_treino.csv\", delimiter=\",\")\n",
    "points = np.c_[np.ones(len(points)),points]\n",
    "X = points[1:,:6]\n",
    "X\n"
   ]
  },
  {
   "cell_type": "code",
   "execution_count": null,
   "metadata": {},
   "outputs": [],
   "source": []
  },
  {
   "cell_type": "code",
   "execution_count": null,
   "metadata": {},
   "outputs": [],
   "source": []
  }
 ],
 "metadata": {
  "kernelspec": {
   "display_name": "Python 2",
   "language": "python",
   "name": "python2"
  },
  "language_info": {
   "codemirror_mode": {
    "name": "ipython",
    "version": 2
   },
   "file_extension": ".py",
   "mimetype": "text/x-python",
   "name": "python",
   "nbconvert_exporter": "python",
   "pygments_lexer": "ipython2",
   "version": "2.7.15"
  }
 },
 "nbformat": 4,
 "nbformat_minor": 2
}
